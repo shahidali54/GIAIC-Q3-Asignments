{
  "nbformat": 4,
  "nbformat_minor": 0,
  "metadata": {
    "colab": {
      "provenance": []
    },
    "kernelspec": {
      "name": "python3",
      "display_name": "Python 3"
    },
    "language_info": {
      "name": "python"
    }
  },
  "cells": [
    {
      "cell_type": "code",
      "execution_count": 1,
      "metadata": {
        "colab": {
          "base_uri": "https://localhost:8080/"
        },
        "id": "JmQ77-ptvZ4V",
        "outputId": "eeaff9ef-6e53-4d81-bff7-53f2913291d7"
      },
      "outputs": [
        {
          "output_type": "stream",
          "name": "stdout",
          "text": [
            "Hello, World!\n"
          ]
        }
      ],
      "source": [
        "print(\"Hello, World!\")"
      ]
    },
    {
      "cell_type": "code",
      "source": [
        "# Basic Python Practice, Variables & Data Types\n",
        "name = \"Shahid Ali\"\n",
        "age = 25\n",
        "is_student = True\n",
        "\n",
        "print(\"My name is\", name, \"and I am\", age, \"years old.\", \"Is student.\", is_student)\n",
        "print(\"Is\", name, \"a student?\", is_student)"
      ],
      "metadata": {
        "colab": {
          "base_uri": "https://localhost:8080/"
        },
        "id": "FpLXils3xKO5",
        "outputId": "5e8eec22-2662-4160-dd8a-70ef338c3df7"
      },
      "execution_count": 15,
      "outputs": [
        {
          "output_type": "stream",
          "name": "stdout",
          "text": [
            "My name is Shahid Ali and I am 25 years old. Is student. True\n",
            "Is Shahid Ali a student? True\n"
          ]
        }
      ]
    },
    {
      "cell_type": "code",
      "source": [
        "# get users Input & print Output\n",
        "name = input(\"Enter your name:\")\n",
        "age = int(input(\"Enter your age\"))\n",
        "\n",
        "print(f\"Hello {name} you are {age} years old\")"
      ],
      "metadata": {
        "colab": {
          "base_uri": "https://localhost:8080/"
        },
        "id": "cikQGSwCDqBs",
        "outputId": "c6867fe6-6fe0-4721-c243-6a26807aaf62"
      },
      "execution_count": 16,
      "outputs": [
        {
          "output_type": "stream",
          "name": "stdout",
          "text": [
            "Enter your name:shahid\n",
            "Enter your age25\n",
            "Hello shahid you are 25 years old\n"
          ]
        }
      ]
    },
    {
      "cell_type": "code",
      "source": [
        "# Conditional Statements (if-else) Even/Odd Number Check\n",
        "num = int(input(\"Enter a number\"))\n",
        "\n",
        "if num % 2 == 0:\n",
        "  print(f\"{num} is even.\")\n",
        "\n",
        "else:\n",
        "    print(f\"{num} is odd\")\n"
      ],
      "metadata": {
        "colab": {
          "base_uri": "https://localhost:8080/"
        },
        "id": "O-ES42d5E3vu",
        "outputId": "23c3d300-515f-459a-88a8-829c96e3c7bb"
      },
      "execution_count": 14,
      "outputs": [
        {
          "output_type": "stream",
          "name": "stdout",
          "text": [
            "Enter a number4\n",
            "4 is even.\n"
          ]
        }
      ]
    },
    {
      "cell_type": "code",
      "source": [
        "# Loops (for & while)\n",
        "for i in range(1, 11):\n",
        "  print(i)"
      ],
      "metadata": {
        "colab": {
          "base_uri": "https://localhost:8080/"
        },
        "id": "eLGyNwc-JVFp",
        "outputId": "4a52ab97-84c1-4c9d-cab3-b67072b9d489"
      },
      "execution_count": 19,
      "outputs": [
        {
          "output_type": "stream",
          "name": "stdout",
          "text": [
            "1\n",
            "2\n",
            "3\n",
            "4\n",
            "5\n",
            "6\n",
            "7\n",
            "8\n",
            "9\n",
            "10\n"
          ]
        }
      ]
    },
    {
      "cell_type": "code",
      "source": [
        "# While Loop - Countdown Timer\n",
        "count = 5\n",
        "while count > 0:\n",
        "  print(count)\n",
        "  count -= 1\n",
        "  print(\"Happy Birthday!\")"
      ],
      "metadata": {
        "colab": {
          "base_uri": "https://localhost:8080/"
        },
        "id": "-nTsXkyqJr1S",
        "outputId": "b71c4148-be87-4fc2-cfcd-d94980e78ac2"
      },
      "execution_count": 20,
      "outputs": [
        {
          "output_type": "stream",
          "name": "stdout",
          "text": [
            "5\n",
            "Happy Birthday!\n",
            "4\n",
            "Happy Birthday!\n",
            "3\n",
            "Happy Birthday!\n",
            "2\n",
            "Happy Birthday!\n",
            "1\n",
            "Happy Birthday!\n"
          ]
        }
      ]
    },
    {
      "cell_type": "code",
      "source": [
        "# Functions Sum of Two Numbers\n",
        "def add_numbers(a, b):\n",
        "  return a + b\n",
        "  print(add_numbers(5,10))"
      ],
      "metadata": {
        "id": "WySc2k9mKf5X"
      },
      "execution_count": 29,
      "outputs": []
    },
    {
      "cell_type": "code",
      "source": [
        "# Lists & Loops\n",
        "fruits = [\"Apple\", \"Banana\", \"Mango\", \"Grapes\"]\n",
        "for fruit in fruits:\n",
        "  print(fruit)"
      ],
      "metadata": {
        "colab": {
          "base_uri": "https://localhost:8080/"
        },
        "id": "l6s3cGm8MlSQ",
        "outputId": "33c1453e-0f99-433e-e8b8-4ded39d2a6b1"
      },
      "execution_count": 31,
      "outputs": [
        {
          "output_type": "stream",
          "name": "stdout",
          "text": [
            "Apple\n",
            "Banana\n",
            "Mango\n",
            "Grapes\n"
          ]
        }
      ]
    },
    {
      "cell_type": "code",
      "source": [
        "# Find Maximum in a List\n",
        "numbers = [12, 55, 34, 99, 35]\n",
        "print(max(numbers))"
      ],
      "metadata": {
        "colab": {
          "base_uri": "https://localhost:8080/"
        },
        "id": "hvM54TaOR33t",
        "outputId": "4c875c4b-ff38-4a4a-cad4-0e6473353b8c"
      },
      "execution_count": 34,
      "outputs": [
        {
          "output_type": "stream",
          "name": "stdout",
          "text": [
            "99\n"
          ]
        }
      ]
    }
  ]
}